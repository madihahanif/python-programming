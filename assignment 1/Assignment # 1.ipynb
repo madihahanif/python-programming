{
 "cells": [
  {
   "cell_type": "markdown",
   "id": "0404b1fa",
   "metadata": {},
   "source": [
    "# Assignment 1:\n"
   ]
  },
  {
   "cell_type": "code",
   "execution_count": 34,
   "id": "5f0984a0",
   "metadata": {},
   "outputs": [
    {
     "name": "stdout",
     "output_type": "stream",
     "text": [
      "twinkle, twinkle,little star,\n",
      "\t how i wonder what you are|\n",
      "\t\t up above the world so high, \n",
      "\t\t like a diamond in the sky.\n",
      "twinkle, twinkle,little star,\n",
      "\t how i wonder what you are\n"
     ]
    }
   ],
   "source": [
    "print(\"twinkle, twinkle,little star,\\n\\t how i wonder what you are|\\n\\t\\t up above the world so high, \\n\\t\\t like a diamond in the sky.\\ntwinkle, twinkle,little star,\\n\\t how i wonder what you are\")"
   ]
  },
  {
   "cell_type": "markdown",
   "id": "188e45ef",
   "metadata": {},
   "source": [
    "# python version"
   ]
  },
  {
   "cell_type": "code",
   "execution_count": 36,
   "id": "e11edd67",
   "metadata": {},
   "outputs": [
    {
     "name": "stdout",
     "output_type": "stream",
     "text": [
      "system version\n",
      "3.9.7 (default, Sep 16 2021, 16:59:28) [MSC v.1916 64 bit (AMD64)]\n",
      "version info\n",
      "sys.version_info(major=3, minor=9, micro=7, releaselevel='final', serial=0)\n"
     ]
    }
   ],
   "source": [
    "import sys\n",
    "print (\"system version\")\n",
    "print (sys.version)\n",
    "print (\"version info\")\n",
    "print (sys.version_info)"
   ]
  },
  {
   "cell_type": "markdown",
   "id": "ccb6cf20",
   "metadata": {},
   "source": [
    "# current date and time"
   ]
  },
  {
   "cell_type": "code",
   "execution_count": 39,
   "id": "85a73cdc",
   "metadata": {},
   "outputs": [
    {
     "name": "stdout",
     "output_type": "stream",
     "text": [
      "current date and time is:\n",
      "21-12-31 10:42:15\n"
     ]
    }
   ],
   "source": [
    "import datetime\n",
    "\n",
    "now = datetime.datetime.now()\n",
    "print(\"current date and time is:\")\n",
    "print(now.strftime(\"%y-%m-%d %H:%M:%S\"))"
   ]
  },
  {
   "cell_type": "markdown",
   "id": "0c3aa1b0",
   "metadata": {},
   "source": [
    "# Area of circle"
   ]
  },
  {
   "cell_type": "code",
   "execution_count": 8,
   "id": "ae884baf",
   "metadata": {},
   "outputs": [
    {
     "name": "stdout",
     "output_type": "stream",
     "text": [
      "Input the radius of the circle : 10\n",
      "The area of the circle with radius 10.0 is: 314.1592653589793\n"
     ]
    }
   ],
   "source": [
    "from math import pi\n",
    "r = float(input (\"Input the radius of the circle : \"))\n",
    "print (\"The area of the circle with radius \" + str(r) + \" is: \" + str(pi * r**2))"
   ]
  },
  {
   "cell_type": "markdown",
   "id": "1cdf9eb9",
   "metadata": {},
   "source": [
    "# first & last name"
   ]
  },
  {
   "cell_type": "code",
   "execution_count": 41,
   "id": "1debb75b",
   "metadata": {},
   "outputs": [
    {
     "name": "stdout",
     "output_type": "stream",
     "text": [
      "enter your firstname:madiha\n",
      "enter your lastname:hanif\n",
      "full name:hanifmadiha\n"
     ]
    }
   ],
   "source": [
    "firstname = input(\"enter your firstname:\")\n",
    "lastname = input(\"enter your lastname:\")\n",
    "print (\"full name:\"+ lastname+ \"\" + firstname)"
   ]
  },
  {
   "cell_type": "markdown",
   "id": "f460f05e",
   "metadata": {},
   "source": [
    "# two input user"
   ]
  },
  {
   "cell_type": "code",
   "execution_count": 6,
   "id": "b36d0384",
   "metadata": {},
   "outputs": [
    {
     "name": "stdout",
     "output_type": "stream",
     "text": [
      "Enter number 1:8\n",
      "Enter number 2:9\n",
      "8 + 9  = 17\n"
     ]
    }
   ],
   "source": [
    "num1 = int(input(\"Enter number 1:\"))\n",
    "num2 = int(input(\"Enter number 2:\"))\n",
    "result = num1 + num2\n",
    "                 \n",
    "print(num1,\"+\",num2,\" =\",result)  "
   ]
  }
 ],
 "metadata": {
  "kernelspec": {
   "display_name": "Python 3 (ipykernel)",
   "language": "python",
   "name": "python3"
  },
  "language_info": {
   "codemirror_mode": {
    "name": "ipython",
    "version": 3
   },
   "file_extension": ".py",
   "mimetype": "text/x-python",
   "name": "python",
   "nbconvert_exporter": "python",
   "pygments_lexer": "ipython3",
   "version": "3.9.7"
  }
 },
 "nbformat": 4,
 "nbformat_minor": 5
}
